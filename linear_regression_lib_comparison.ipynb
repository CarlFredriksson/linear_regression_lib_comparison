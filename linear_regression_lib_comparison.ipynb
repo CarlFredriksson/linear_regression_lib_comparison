{
 "cells": [
  {
   "cell_type": "code",
   "execution_count": 1,
   "metadata": {},
   "outputs": [],
   "source": [
    "import numpy as np\n",
    "import pandas as pd\n",
    "import matplotlib.pyplot as plt\n",
    "import sklearn\n",
    "from sklearn import datasets\n",
    "from sklearn.metrics import mean_squared_error, r2_score\n",
    "from sklearn.model_selection import train_test_split\n",
    "from sklearn.linear_model import LinearRegression\n",
    "from sklearn.metrics import mean_squared_error, r2_score\n",
    "import torch\n",
    "import torch.nn as nn\n",
    "import torch.optim as optim\n",
    "from torch.autograd import Variable\n",
    "import tensorflow as tf\n",
    "from tensorflow import keras\n",
    "from tensorflow.keras import layers"
   ]
  },
  {
   "cell_type": "markdown",
   "metadata": {},
   "source": [
    "# Introduction\n",
    "\n",
    "The goal of this notebook is to be a reference (mostly for myself) of how different ML-libraries are used. The goal is not to dive deep into every library, but rather to show minimal examples of how to create a model, how to train it, and how to predict using the trained model. Since the focus is not on the model itself we will use linear regression to keep it simple.\n",
    "\n",
    "When picking a library for a real problem, I would chose scikit-learn for most ML-models that are not deep neural networks. This is because it is a very high level library which means that we need to write few lines of code. It is also the fastest running linear regression example in this notebook. I would chose either PyTorch or Tensorflow for most deep neural network models."
   ]
  },
  {
   "cell_type": "code",
   "execution_count": 2,
   "metadata": {},
   "outputs": [
    {
     "name": "stdout",
     "output_type": "stream",
     "text": [
      "sklearn.__version__: 0.21.3\n",
      "torch.__version__: 1.4.0\n",
      "tf.__version__: 2.1.0\n"
     ]
    }
   ],
   "source": [
    "print('sklearn.__version__:', sklearn.__version__)\n",
    "print('torch.__version__:', torch.__version__)\n",
    "print('tf.__version__:', tf.__version__)"
   ]
  },
  {
   "cell_type": "markdown",
   "metadata": {},
   "source": [
    "# Load dataset\n",
    "\n",
    "We will use the diabetes dataset from `sklearn.datasets`, which you can read about in the scikit-learn documentation at https://scikit-learn.org/stable/datasets/index.html. To keep it as simple as possible we will only use one independent variable (the BMI of the patient which is the 3rd feature). Note from the documentation: *Each of these 10 feature variables have been mean centered and scaled by the standard deviation times n_samples (i.e. the sum of squares of each column totals 1).*"
   ]
  },
  {
   "cell_type": "code",
   "execution_count": 3,
   "metadata": {},
   "outputs": [
    {
     "name": "stdout",
     "output_type": "stream",
     "text": [
      "(442, 10)\n",
      "(442,)\n"
     ]
    }
   ],
   "source": [
    "X_diabetes, Y_diabetes = datasets.load_diabetes(return_X_y=True)\n",
    "print(X_diabetes.shape)\n",
    "print(Y_diabetes.shape)"
   ]
  },
  {
   "cell_type": "code",
   "execution_count": 4,
   "metadata": {},
   "outputs": [
    {
     "data": {
      "text/plain": [
       "(442, 1)"
      ]
     },
     "execution_count": 4,
     "metadata": {},
     "output_type": "execute_result"
    }
   ],
   "source": [
    "X_diabetes = np.expand_dims(X_diabetes[:, 2], axis=1)\n",
    "X_diabetes.shape"
   ]
  },
  {
   "cell_type": "code",
   "execution_count": 5,
   "metadata": {},
   "outputs": [
    {
     "data": {
      "text/plain": [
       "(442, 1)"
      ]
     },
     "execution_count": 5,
     "metadata": {},
     "output_type": "execute_result"
    }
   ],
   "source": [
    "Y_diabetes = np.expand_dims(Y_diabetes, axis=1)\n",
    "Y_diabetes.shape"
   ]
  },
  {
   "cell_type": "markdown",
   "metadata": {},
   "source": [
    "## Split into training and test sets"
   ]
  },
  {
   "cell_type": "code",
   "execution_count": 6,
   "metadata": {},
   "outputs": [
    {
     "name": "stdout",
     "output_type": "stream",
     "text": [
      "X_train.shape=(294, 1) X_test.shape=(148, 1) Y_train.shape=(294, 1) Y_test.shape=(148, 1)\n"
     ]
    }
   ],
   "source": [
    "X_train, X_test, Y_train, Y_test = train_test_split(X_diabetes, Y_diabetes, test_size=1/3, random_state=42)\n",
    "print(f'X_train.shape={X_train.shape} X_test.shape={X_test.shape} Y_train.shape={Y_train.shape} Y_test.shape={Y_test.shape}')"
   ]
  },
  {
   "cell_type": "code",
   "execution_count": 7,
   "metadata": {},
   "outputs": [
    {
     "data": {
      "text/plain": [
       "<matplotlib.collections.PathCollection at 0x22be2a58a88>"
      ]
     },
     "execution_count": 7,
     "metadata": {},
     "output_type": "execute_result"
    },
    {
     "data": {
      "image/png": "[encoded data removed]",
      "text/plain": [
       "<Figure size 432x288 with 1 Axes>"
      ]
     },
     "metadata": {
      "needs_background": "light"
     },
     "output_type": "display_data"
    }
   ],
   "source": [
    "plt.scatter(X_train, Y_train)"
   ]
  },
  {
   "cell_type": "markdown",
   "metadata": {},
   "source": [
    "# Linear regression using scikit-learn"
   ]
  },
  {
   "cell_type": "code",
   "execution_count": 8,
   "metadata": {},
   "outputs": [
    {
     "data": {
      "text/plain": [
       "LinearRegression(copy_X=True, fit_intercept=True, n_jobs=None, normalize=False)"
      ]
     },
     "execution_count": 8,
     "metadata": {},
     "output_type": "execute_result"
    }
   ],
   "source": [
    "lr = LinearRegression()\n",
    "lr.fit(X_train, Y_train)"
   ]
  },
  {
   "cell_type": "code",
   "execution_count": 9,
   "metadata": {},
   "outputs": [
    {
     "data": {
      "text/plain": [
       "(148, 1)"
      ]
     },
     "execution_count": 9,
     "metadata": {},
     "output_type": "execute_result"
    }
   ],
   "source": [
    "Y_pred = lr.predict(X_test)\n",
    "Y_pred.shape"
   ]
  },
  {
   "cell_type": "code",
   "execution_count": 10,
   "metadata": {},
   "outputs": [
    {
     "name": "stdout",
     "output_type": "stream",
     "text": [
      "Coefficients: [[975.40444663]]\n",
      "Mean squared error (MSE) on test set: 3891.300416804684\n",
      "Coefficient of determination (R^2) on test set: 0.3158755200403638\n"
     ]
    }
   ],
   "source": [
    "print('Coefficients:', lr.coef_)\n",
    "print('Mean squared error (MSE) on test set:', mean_squared_error(Y_test, Y_pred))\n",
    "print('Coefficient of determination (R^2) on test set:', r2_score(Y_test, Y_pred))"
   ]
  },
  {
   "cell_type": "code",
   "execution_count": 11,
   "metadata": {},
   "outputs": [
    {
     "data": {
      "image/png": "[encoded data removed]",
      "text/plain": [
       "<Figure size 432x288 with 1 Axes>"
      ]
     },
     "metadata": {
      "needs_background": "light"
     },
     "output_type": "display_data"
    }
   ],
   "source": [
    "plt.scatter(X_test, Y_test)\n",
    "plt.plot(X_test, Y_pred, color='red')\n",
    "plt.show()"
   ]
  },
  {
   "cell_type": "markdown",
   "metadata": {},
   "source": [
    "# Linear regression using PyTorch"
   ]
  },
  {
   "cell_type": "code",
   "execution_count": 12,
   "metadata": {},
   "outputs": [],
   "source": [
    "class LinearRegressionModel(nn.Module):\n",
    "    def __init__(self, input_size, output_size):\n",
    "        super(LinearRegressionModel, self).__init__()\n",
    "        self.linear = nn.Linear(input_size, output_size)\n",
    "    \n",
    "    def forward(self, x):\n",
    "        return self.linear(x)"
   ]
  },
  {
   "cell_type": "code",
   "execution_count": 13,
   "metadata": {},
   "outputs": [],
   "source": [
    "model = LinearRegressionModel(1, 1)\n",
    "loss_func = nn.MSELoss()\n",
    "optimizer = optim.SGD(model.parameters(), lr=0.03)\n",
    "inputs = Variable(torch.from_numpy(X_train.astype('float32')))\n",
    "outputs = Variable(torch.from_numpy(Y_train.astype('float32')))"
   ]
  },
  {
   "cell_type": "code",
   "execution_count": 14,
   "metadata": {},
   "outputs": [
    {
     "name": "stdout",
     "output_type": "stream",
     "text": [
      "epoch: 0, loss: 29387.7890625\n",
      "epoch: 1000, loss: 5540.41943359375\n",
      "epoch: 2000, loss: 5149.78271484375\n",
      "epoch: 3000, loss: 4852.06103515625\n",
      "epoch: 4000, loss: 4625.150390625\n",
      "epoch: 5000, loss: 4452.2109375\n",
      "epoch: 6000, loss: 4320.40576171875\n",
      "epoch: 7000, loss: 4219.9501953125\n",
      "epoch: 8000, loss: 4143.38818359375\n",
      "epoch: 9000, loss: 4085.037353515625\n",
      "epoch: 10000, loss: 4040.564697265625\n",
      "epoch: 11000, loss: 4006.669677734375\n",
      "epoch: 12000, loss: 3980.837646484375\n",
      "epoch: 13000, loss: 3961.14892578125\n",
      "epoch: 14000, loss: 3946.143798828125\n",
      "epoch: 15000, loss: 3934.70703125\n",
      "epoch: 16000, loss: 3925.990966796875\n",
      "epoch: 17000, loss: 3919.347412109375\n",
      "epoch: 18000, loss: 3914.284912109375\n",
      "epoch: 19000, loss: 3910.425537109375\n",
      "epoch: 20000, loss: 3907.484619140625\n",
      "epoch: 21000, loss: 3905.244140625\n",
      "epoch: 22000, loss: 3903.535400390625\n",
      "epoch: 23000, loss: 3902.23291015625\n",
      "epoch: 24000, loss: 3901.240966796875\n",
      "epoch: 25000, loss: 3900.484375\n",
      "epoch: 26000, loss: 3899.9072265625\n",
      "epoch: 27000, loss: 3899.468017578125\n",
      "epoch: 28000, loss: 3899.133544921875\n",
      "epoch: 29000, loss: 3898.87841796875\n"
     ]
    }
   ],
   "source": [
    "for epoch in range(30000):\n",
    "    optimizer.zero_grad()\n",
    "    Y_pred = model(inputs)\n",
    "    loss = loss_func(Y_pred, outputs)\n",
    "    loss.backward()\n",
    "    optimizer.step()\n",
    "    if epoch % 1000 == 0:\n",
    "        print(f'epoch: {epoch}, loss: {loss}')"
   ]
  },
  {
   "cell_type": "code",
   "execution_count": 15,
   "metadata": {},
   "outputs": [
    {
     "data": {
      "text/plain": [
       "(148, 1)"
      ]
     },
     "execution_count": 15,
     "metadata": {},
     "output_type": "execute_result"
    }
   ],
   "source": [
    "Y_pred = model(Variable(torch.from_numpy(X_test.astype('float32')))).data.numpy()\n",
    "Y_pred.shape"
   ]
  },
  {
   "cell_type": "code",
   "execution_count": 16,
   "metadata": {},
   "outputs": [
    {
     "name": "stdout",
     "output_type": "stream",
     "text": [
      "Coefficients: [958.8099]\n",
      "Mean squared error (MSE) on test set: 3885.7709588242083\n",
      "Coefficient of determination (R^2) on test set: 0.3168476468771958\n"
     ]
    }
   ],
   "source": [
    "print('Coefficients:', [parameter.data.numpy()[0][0] for parameter in list(model.parameters())[:-1]])\n",
    "print('Mean squared error (MSE) on test set:', mean_squared_error(Y_test, Y_pred))\n",
    "print('Coefficient of determination (R^2) on test set:', r2_score(Y_test, Y_pred))"
   ]
  },
  {
   "cell_type": "code",
   "execution_count": 17,
   "metadata": {},
   "outputs": [
    {
     "data": {
      "image/png": "[encoded data removed]",
      "text/plain": [
       "<Figure size 432x288 with 1 Axes>"
      ]
     },
     "metadata": {
      "needs_background": "light"
     },
     "output_type": "display_data"
    }
   ],
   "source": [
    "plt.scatter(X_test, Y_test)\n",
    "plt.plot(X_test, Y_pred, color='red')\n",
    "plt.show()"
   ]
  },
  {
   "cell_type": "markdown",
   "metadata": {},
   "source": [
    "# Linear regression using TensorFlow (Keras)"
   ]
  },
  {
   "cell_type": "code",
   "execution_count": 18,
   "metadata": {},
   "outputs": [
    {
     "name": "stdout",
     "output_type": "stream",
     "text": [
      "Model: \"sequential\"\n",
      "_________________________________________________________________\n",
      "Layer (type)                 Output Shape              Param #   \n",
      "=================================================================\n",
      "dense (Dense)                (None, 1)                 2         \n",
      "=================================================================\n",
      "Total params: 2\n",
      "Trainable params: 2\n",
      "Non-trainable params: 0\n",
      "_________________________________________________________________\n"
     ]
    }
   ],
   "source": [
    "model = keras.Sequential([\n",
    "    layers.Dense(1,  input_shape=[1])\n",
    "])\n",
    "optimizer = tf.keras.optimizers.SGD(0.03)\n",
    "model.compile(loss='mse', optimizer=optimizer, metrics=['mse'])\n",
    "model.summary()"
   ]
  },
  {
   "cell_type": "code",
   "execution_count": 19,
   "metadata": {},
   "outputs": [
    {
     "data": {
      "text/html": [
       "<div>\n",
       "<style scoped>\n",
       "    .dataframe tbody tr th:only-of-type {\n",
       "        vertical-align: middle;\n",
       "    }\n",
       "\n",
       "    .dataframe tbody tr th {\n",
       "        vertical-align: top;\n",
       "    }\n",
       "\n",
       "    .dataframe thead th {\n",
       "        text-align: right;\n",
       "    }\n",
       "</style>\n",
       "<table border=\"1\" class=\"dataframe\">\n",
       "  <thead>\n",
       "    <tr style=\"text-align: right;\">\n",
       "      <th></th>\n",
       "      <th>loss</th>\n",
       "      <th>mse</th>\n",
       "      <th>epoch</th>\n",
       "    </tr>\n",
       "  </thead>\n",
       "  <tbody>\n",
       "    <tr>\n",
       "      <td>9995</td>\n",
       "      <td>3909.436964</td>\n",
       "      <td>3909.437012</td>\n",
       "      <td>9995</td>\n",
       "    </tr>\n",
       "    <tr>\n",
       "      <td>9996</td>\n",
       "      <td>3910.103528</td>\n",
       "      <td>3910.103271</td>\n",
       "      <td>9996</td>\n",
       "    </tr>\n",
       "    <tr>\n",
       "      <td>9997</td>\n",
       "      <td>3909.983993</td>\n",
       "      <td>3909.983887</td>\n",
       "      <td>9997</td>\n",
       "    </tr>\n",
       "    <tr>\n",
       "      <td>9998</td>\n",
       "      <td>3905.806111</td>\n",
       "      <td>3905.806152</td>\n",
       "      <td>9998</td>\n",
       "    </tr>\n",
       "    <tr>\n",
       "      <td>9999</td>\n",
       "      <td>3903.801622</td>\n",
       "      <td>3903.801758</td>\n",
       "      <td>9999</td>\n",
       "    </tr>\n",
       "  </tbody>\n",
       "</table>\n",
       "</div>"
      ],
      "text/plain": [
       "             loss          mse  epoch\n",
       "9995  3909.436964  3909.437012   9995\n",
       "9996  3910.103528  3910.103271   9996\n",
       "9997  3909.983993  3909.983887   9997\n",
       "9998  3905.806111  3905.806152   9998\n",
       "9999  3903.801622  3903.801758   9999"
      ]
     },
     "execution_count": 19,
     "metadata": {},
     "output_type": "execute_result"
    }
   ],
   "source": [
    "history = model.fit(X_train, Y_train, epochs=10000, verbose=0)\n",
    "df_history = pd.DataFrame(history.history)\n",
    "df_history['epoch'] = history.epoch\n",
    "df_history.tail()"
   ]
  },
  {
   "cell_type": "code",
   "execution_count": 20,
   "metadata": {},
   "outputs": [
    {
     "data": {
      "text/plain": [
       "(148, 1)"
      ]
     },
     "execution_count": 20,
     "metadata": {},
     "output_type": "execute_result"
    }
   ],
   "source": [
    "Y_pred = model.predict(X_test)\n",
    "Y_pred.shape"
   ]
  },
  {
   "cell_type": "code",
   "execution_count": 21,
   "metadata": {},
   "outputs": [
    {
     "name": "stdout",
     "output_type": "stream",
     "text": [
      "Coefficients: [976.1719]\n",
      "Mean squared error (MSE) on test set: 3897.543239109509\n",
      "Coefficient of determination (R^2) on test set: 0.3147779775467734\n"
     ]
    }
   ],
   "source": [
    "print('Coefficients:', model.layers[0].get_weights()[0][0])\n",
    "print('Mean squared error (MSE) on test set:', mean_squared_error(Y_test, Y_pred))\n",
    "print('Coefficient of determination (R^2) on test set:', r2_score(Y_test, Y_pred))"
   ]
  },
  {
   "cell_type": "code",
   "execution_count": 22,
   "metadata": {},
   "outputs": [
    {
     "data": {
      "image/png": "[encoded data removed]",
      "text/plain": [
       "<Figure size 432x288 with 1 Axes>"
      ]
     },
     "metadata": {
      "needs_background": "light"
     },
     "output_type": "display_data"
    }
   ],
   "source": [
    "plt.scatter(X_test, Y_test)\n",
    "plt.plot(X_test, Y_pred, color='red')\n",
    "plt.show()"
   ]
  }
 ],
 "metadata": {
  "kernelspec": {
   "display_name": "Python 3",
   "language": "python",
   "name": "python3"
  },
  "language_info": {
   "codemirror_mode": {
    "name": "ipython",
    "version": 3
   },
   "file_extension": ".py",
   "mimetype": "text/x-python",
   "name": "python",
   "nbconvert_exporter": "python",
   "pygments_lexer": "ipython3",
   "version": "3.7.4"
  }
 },
 "nbformat": 4,
 "nbformat_minor": 4
}
